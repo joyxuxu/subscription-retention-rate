{
 "cells": [
  {
   "cell_type": "code",
   "execution_count": 1,
   "metadata": {},
   "outputs": [],
   "source": [
    "import numpy as np\n",
    "import matplotlib.pyplot as plt\n",
    "import pandas as pd"
   ]
  },
  {
   "cell_type": "code",
   "execution_count": 2,
   "metadata": {},
   "outputs": [],
   "source": [
    "# reading the dataset\n",
    "dataset = pd.read_csv('subscription.csv')"
   ]
  },
  {
   "cell_type": "code",
   "execution_count": 3,
   "metadata": {},
   "outputs": [
    {
     "data": {
      "text/html": [
       "<div>\n",
       "<style scoped>\n",
       "    .dataframe tbody tr th:only-of-type {\n",
       "        vertical-align: middle;\n",
       "    }\n",
       "\n",
       "    .dataframe tbody tr th {\n",
       "        vertical-align: top;\n",
       "    }\n",
       "\n",
       "    .dataframe thead th {\n",
       "        text-align: right;\n",
       "    }\n",
       "</style>\n",
       "<table border=\"1\" class=\"dataframe\">\n",
       "  <thead>\n",
       "    <tr style=\"text-align: right;\">\n",
       "      <th></th>\n",
       "      <th>user_id</th>\n",
       "      <th>subscription_signup_date</th>\n",
       "      <th>subscription_monthly_cost</th>\n",
       "      <th>country</th>\n",
       "      <th>source</th>\n",
       "      <th>billing_cycles</th>\n",
       "      <th>is_active</th>\n",
       "    </tr>\n",
       "  </thead>\n",
       "  <tbody>\n",
       "    <tr>\n",
       "      <th>0</th>\n",
       "      <td>1459</td>\n",
       "      <td>January, 2015</td>\n",
       "      <td>29</td>\n",
       "      <td>Spain</td>\n",
       "      <td>ads</td>\n",
       "      <td>4</td>\n",
       "      <td>0</td>\n",
       "    </tr>\n",
       "    <tr>\n",
       "      <th>1</th>\n",
       "      <td>12474</td>\n",
       "      <td>January, 2015</td>\n",
       "      <td>49</td>\n",
       "      <td>France</td>\n",
       "      <td>ads</td>\n",
       "      <td>5</td>\n",
       "      <td>0</td>\n",
       "    </tr>\n",
       "    <tr>\n",
       "      <th>2</th>\n",
       "      <td>12294</td>\n",
       "      <td>January, 2015</td>\n",
       "      <td>49</td>\n",
       "      <td>Germany</td>\n",
       "      <td>ads</td>\n",
       "      <td>2</td>\n",
       "      <td>0</td>\n",
       "    </tr>\n",
       "    <tr>\n",
       "      <th>3</th>\n",
       "      <td>3878</td>\n",
       "      <td>January, 2015</td>\n",
       "      <td>49</td>\n",
       "      <td>China</td>\n",
       "      <td>ads</td>\n",
       "      <td>1</td>\n",
       "      <td>0</td>\n",
       "    </tr>\n",
       "    <tr>\n",
       "      <th>4</th>\n",
       "      <td>9567</td>\n",
       "      <td>January, 2015</td>\n",
       "      <td>49</td>\n",
       "      <td>UK</td>\n",
       "      <td>ads</td>\n",
       "      <td>5</td>\n",
       "      <td>0</td>\n",
       "    </tr>\n",
       "  </tbody>\n",
       "</table>\n",
       "</div>"
      ],
      "text/plain": [
       "   user_id subscription_signup_date  subscription_monthly_cost  country  \\\n",
       "0     1459            January, 2015                         29    Spain   \n",
       "1    12474            January, 2015                         49   France   \n",
       "2    12294            January, 2015                         49  Germany   \n",
       "3     3878            January, 2015                         49    China   \n",
       "4     9567            January, 2015                         49       UK   \n",
       "\n",
       "  source  billing_cycles  is_active  \n",
       "0    ads               4          0  \n",
       "1    ads               5          0  \n",
       "2    ads               2          0  \n",
       "3    ads               1          0  \n",
       "4    ads               5          0  "
      ]
     },
     "execution_count": 3,
     "metadata": {},
     "output_type": "execute_result"
    }
   ],
   "source": [
    "dataset.head()"
   ]
  },
  {
   "cell_type": "code",
   "execution_count": 4,
   "metadata": {},
   "outputs": [
    {
     "data": {
      "text/plain": [
       "user_id                      0\n",
       "subscription_signup_date     0\n",
       "subscription_monthly_cost    0\n",
       "country                      0\n",
       "source                       0\n",
       "billing_cycles               0\n",
       "is_active                    0\n",
       "dtype: int64"
      ]
     },
     "execution_count": 4,
     "metadata": {},
     "output_type": "execute_result"
    }
   ],
   "source": [
    "# checking for null values\n",
    "dataset.isnull().sum()"
   ]
  },
  {
   "cell_type": "code",
   "execution_count": 5,
   "metadata": {},
   "outputs": [
    {
     "data": {
      "text/plain": [
       "49    300397\n",
       "29    146362\n",
       "99     53241\n",
       "Name: subscription_monthly_cost, dtype: int64"
      ]
     },
     "execution_count": 5,
     "metadata": {},
     "output_type": "execute_result"
    }
   ],
   "source": [
    "# displaying value count of subscription_monthly_cost\n",
    "dataset[\"subscription_monthly_cost\"].value_counts()"
   ]
  },
  {
   "cell_type": "code",
   "execution_count": 6,
   "metadata": {},
   "outputs": [
    {
     "data": {
      "text/plain": [
       "array([88921, 67103, 55066, 47279, 41774, 37638, 34527])"
      ]
     },
     "execution_count": 6,
     "metadata": {},
     "output_type": "execute_result"
    }
   ],
   "source": [
    "# calculating the number of users of $29 who stayed subscribed after each month\n",
    "l_29 = np.arange(7)\n",
    "dp_29 = dataset[(dataset.subscription_monthly_cost == 29)].shape[0]\n",
    "for i in range(7):\n",
    "    l_29[i] = dp_29 - dataset[(dataset.subscription_monthly_cost == 29) & (dataset.billing_cycles == i+1)].shape[0]\n",
    "    dp_29 = l_29[i]\n",
    "l_29"
   ]
  },
  {
   "cell_type": "code",
   "execution_count": 7,
   "metadata": {},
   "outputs": [
    {
     "data": {
      "text/plain": [
       "array([0.60754157, 0.45847283, 0.37623154, 0.32302784, 0.28541561,\n",
       "       0.25715691, 0.2359014 ])"
      ]
     },
     "execution_count": 7,
     "metadata": {},
     "output_type": "execute_result"
    }
   ],
   "source": [
    "# calculating subscription rentention rate\n",
    "sr_29 = (l_29/146362)\n",
    "sr_29"
   ]
  },
  {
   "cell_type": "code",
   "execution_count": 8,
   "metadata": {},
   "outputs": [
    {
     "data": {
      "text/plain": [
       "array([115252,  61956,  40266,  28978,  22251,  17846,  14673])"
      ]
     },
     "execution_count": 8,
     "metadata": {},
     "output_type": "execute_result"
    }
   ],
   "source": [
    "# calculating the number of users of $49 who stayed subscribed after each month\n",
    "l_49 = np.arange(7)\n",
    "dp_49 = dataset[(dataset.subscription_monthly_cost == 49)].shape[0]\n",
    "for i in range(7):\n",
    "    l_49[i] = dp_49 - dataset[(dataset.subscription_monthly_cost == 49) & (dataset.billing_cycles == i+1)].shape[0]\n",
    "    dp_49 = l_49[i]\n",
    "l_49"
   ]
  },
  {
   "cell_type": "code",
   "execution_count": 9,
   "metadata": {},
   "outputs": [
    {
     "data": {
      "text/plain": [
       "array([0.38366562, 0.20624707, 0.13404262, 0.09646568, 0.07407198,\n",
       "       0.05940805, 0.04884536])"
      ]
     },
     "execution_count": 9,
     "metadata": {},
     "output_type": "execute_result"
    }
   ],
   "source": [
    "# calculating subscription rentention rate\n",
    "sr_49 = (l_49/300397)\n",
    "sr_49"
   ]
  },
  {
   "cell_type": "code",
   "execution_count": 10,
   "metadata": {},
   "outputs": [
    {
     "data": {
      "text/plain": [
       "array([8453, 3729, 2258, 1580, 1181,  955,  799])"
      ]
     },
     "execution_count": 10,
     "metadata": {},
     "output_type": "execute_result"
    }
   ],
   "source": [
    "# calculating the number of users of $99 who stayed subscribed after each month\n",
    "l_99 = np.arange(7)\n",
    "dp_99 = dataset[(dataset.subscription_monthly_cost == 99)].shape[0]\n",
    "for i in range(7):\n",
    "    l_99[i] = dp_99 - dataset[(dataset.subscription_monthly_cost == 99) & (dataset.billing_cycles == i+1)].shape[0]\n",
    "    dp_99 = l_99[i]\n",
    "l_99"
   ]
  },
  {
   "cell_type": "code",
   "execution_count": 11,
   "metadata": {},
   "outputs": [
    {
     "data": {
      "text/plain": [
       "array([0.15876862, 0.07004001, 0.04241092, 0.02967638, 0.02218215,\n",
       "       0.0179373 , 0.01500723])"
      ]
     },
     "execution_count": 11,
     "metadata": {},
     "output_type": "execute_result"
    }
   ],
   "source": [
    "# calculating subscription rentention rate\n",
    "sr_99 = (l_99/53241)\n",
    "sr_99"
   ]
  },
  {
   "cell_type": "code",
   "execution_count": 12,
   "metadata": {},
   "outputs": [
    {
     "data": {
      "text/plain": [
       "array([1, 2, 3, 4, 5, 6, 7])"
      ]
     },
     "execution_count": 12,
     "metadata": {},
     "output_type": "execute_result"
    }
   ],
   "source": [
    "x = np.arange(1,8)\n",
    "x"
   ]
  },
  {
   "cell_type": "code",
   "execution_count": 13,
   "metadata": {},
   "outputs": [
    {
     "data": {
      "image/png": "[encoded data removed]",
      "text/plain": [
       "<Figure size 432x288 with 1 Axes>"
      ]
     },
     "metadata": {},
     "output_type": "display_data"
    }
   ],
   "source": [
    "# graphical represnetation of the 3 datasets created\n",
    "fig, ax = plt.subplots()\n",
    "ax.plot(x, sr_29, 'r', label='29')\n",
    "ax.plot(x, sr_49, 'b', label='49')\n",
    "ax.plot(x, sr_99, 'g', label='99')\n",
    "plt.xlabel(\"months\")\n",
    "plt.ylabel(\"subscription retention rate\")\n",
    "plt.title(\"$29 VS $49 VS $99\")\n",
    "legend = ax.legend(loc='upper right', shadow=True, fontsize='x-large')"
   ]
  },
  {
   "cell_type": "code",
   "execution_count": 14,
   "metadata": {},
   "outputs": [],
   "source": [
    "# exponential regression\n",
    "def model_func(t, A, K):\n",
    "    return A * np.exp(K * t)\n",
    "\n",
    "def fit_exp_linear(t, y, C = 0):\n",
    "    y = y - C\n",
    "    y = np.log(y)\n",
    "    K, A_log = np.polyfit(t, y, 1)\n",
    "    A = np.exp(A_log)\n",
    "    return A, K"
   ]
  },
  {
   "cell_type": "code",
   "execution_count": 15,
   "metadata": {
    "scrolled": true
   },
   "outputs": [],
   "source": [
    "A_29, K_29 = fit_exp_linear(x, sr_29)\n",
    "y_29 = model_func(x, A_29, K_29)\n",
    "A_49, K_49 = fit_exp_linear(x, sr_49)\n",
    "y_49 = model_func(x, A_49, K_49)\n",
    "A_99, K_99 = fit_exp_linear(x, sr_99)\n",
    "y_99 = model_func(x, A_99, K_99)\n",
    "\n",
    "rmse_er_29 = np.sqrt(np.mean((sr_29 - y_29)**2))\n",
    "rmse_er_49 = np.sqrt(np.mean((sr_49 - y_49)**2))\n",
    "rmse_er_99 = np.sqrt(np.mean((sr_99 - y_99)**2))"
   ]
  },
  {
   "cell_type": "code",
   "execution_count": 16,
   "metadata": {},
   "outputs": [
    {
     "data": {
      "text/plain": [
       "0.028097205872606588"
      ]
     },
     "execution_count": 16,
     "metadata": {},
     "output_type": "execute_result"
    }
   ],
   "source": [
    "rmse_er_29"
   ]
  },
  {
   "cell_type": "code",
   "execution_count": 17,
   "metadata": {},
   "outputs": [
    {
     "data": {
      "text/plain": [
       "0.032926100713908765"
      ]
     },
     "execution_count": 17,
     "metadata": {},
     "output_type": "execute_result"
    }
   ],
   "source": [
    "rmse_er_49"
   ]
  },
  {
   "cell_type": "code",
   "execution_count": 18,
   "metadata": {},
   "outputs": [
    {
     "data": {
      "text/plain": [
       "0.01877064628296308"
      ]
     },
     "execution_count": 18,
     "metadata": {},
     "output_type": "execute_result"
    }
   ],
   "source": [
    "rmse_er_99"
   ]
  },
  {
   "cell_type": "code",
   "execution_count": 19,
   "metadata": {},
   "outputs": [
    {
     "data": {
      "image/png": "[encoded data removed]",
      "text/plain": [
       "<Figure size 432x288 with 1 Axes>"
      ]
     },
     "metadata": {},
     "output_type": "display_data"
    }
   ],
   "source": [
    "# plotting exponential regression fit on $29 dataset\n",
    "plt.scatter(x,sr_29)\n",
    "plt.plot(x,y_29, 'r')\n",
    "plt.xlabel(\"months\")\n",
    "plt.ylabel(\"subscription retention rate\")\n",
    "plt.title(\"$29\")\n",
    "plt.show()"
   ]
  },
  {
   "cell_type": "code",
   "execution_count": 20,
   "metadata": {},
   "outputs": [
    {
     "data": {
      "image/png": "[encoded data removed]",
      "text/plain": [
       "<Figure size 432x288 with 1 Axes>"
      ]
     },
     "metadata": {},
     "output_type": "display_data"
    }
   ],
   "source": [
    "# plotting exponential regression fit on $49 dataset\n",
    "plt.scatter(x,sr_49)\n",
    "plt.plot(x,y_49, 'r')\n",
    "plt.xlabel(\"months\")\n",
    "plt.ylabel(\"subscription retention rate\")\n",
    "plt.title(\"$49\")\n",
    "plt.show()"
   ]
  },
  {
   "cell_type": "code",
   "execution_count": 21,
   "metadata": {},
   "outputs": [
    {
     "data": {
      "image/png": "[encoded data removed]",
      "text/plain": [
       "<Figure size 432x288 with 1 Axes>"
      ]
     },
     "metadata": {},
     "output_type": "display_data"
    }
   ],
   "source": [
    "# plotting exponential regression fit on $99 dataset\n",
    "plt.scatter(x,sr_99)\n",
    "plt.plot(x,y_99, 'r')\n",
    "plt.xlabel(\"months\")\n",
    "plt.ylabel(\"subscription retention rate\")\n",
    "plt.title(\"$99\")\n",
    "plt.show()"
   ]
  },
  {
   "cell_type": "code",
   "execution_count": 22,
   "metadata": {},
   "outputs": [],
   "source": [
    "# reshapping arrays \n",
    "x = x.reshape(-1,1)\n",
    "sr_29 = sr_29.reshape(-1,1)\n",
    "sr_49 = sr_49.reshape(-1,1)\n",
    "sr_99 = sr_99.reshape(-1,1)"
   ]
  },
  {
   "cell_type": "code",
   "execution_count": 23,
   "metadata": {},
   "outputs": [],
   "source": [
    "# Linear regression\n",
    "\n",
    "from sklearn.linear_model import LinearRegression\n",
    "regressor1 = LinearRegression()\n",
    "regressor2 = LinearRegression()\n",
    "regressor3 = LinearRegression()\n",
    "regressor1.fit(x,sr_29)\n",
    "regressor2.fit(x,sr_49)\n",
    "regressor3.fit(x,sr_99)\n",
    "\n",
    "y_pred_1 = regressor1.predict(x)\n",
    "y_pred_2 = regressor2.predict(x)\n",
    "y_pred_3 = regressor3.predict(x)\n",
    "\n",
    "rmse_lr_29 = np.sqrt(np.mean((sr_29 - y_pred_1)**2))\n",
    "rmse_lr_49 = np.sqrt(np.mean((sr_49 - y_pred_2)**2))\n",
    "rmse_lr_99 = np.sqrt(np.mean((sr_99 - y_pred_3)**2))"
   ]
  },
  {
   "cell_type": "code",
   "execution_count": 24,
   "metadata": {},
   "outputs": [
    {
     "data": {
      "text/plain": [
       "0.040841356112774195"
      ]
     },
     "execution_count": 24,
     "metadata": {},
     "output_type": "execute_result"
    }
   ],
   "source": [
    "rmse_lr_29 "
   ]
  },
  {
   "cell_type": "code",
   "execution_count": 25,
   "metadata": {},
   "outputs": [
    {
     "data": {
      "text/plain": [
       "0.051955391501132854"
      ]
     },
     "execution_count": 25,
     "metadata": {},
     "output_type": "execute_result"
    }
   ],
   "source": [
    "rmse_lr_49 "
   ]
  },
  {
   "cell_type": "code",
   "execution_count": 26,
   "metadata": {},
   "outputs": [
    {
     "data": {
      "text/plain": [
       "0.025897134204060368"
      ]
     },
     "execution_count": 26,
     "metadata": {},
     "output_type": "execute_result"
    }
   ],
   "source": [
    "rmse_lr_99 "
   ]
  },
  {
   "cell_type": "code",
   "execution_count": 27,
   "metadata": {},
   "outputs": [
    {
     "data": {
      "image/png": "[encoded data removed]",
      "text/plain": [
       "<Figure size 432x288 with 1 Axes>"
      ]
     },
     "metadata": {},
     "output_type": "display_data"
    }
   ],
   "source": [
    "# plotting linear regression fit on $29 dataset\n",
    "plt.scatter(x,sr_29)\n",
    "plt.plot(x,y_pred_1, 'r')\n",
    "plt.xlabel(\"months\")\n",
    "plt.ylabel(\"subscription retention rate\")\n",
    "plt.title(\"$29\")\n",
    "plt.show()"
   ]
  },
  {
   "cell_type": "code",
   "execution_count": 28,
   "metadata": {},
   "outputs": [
    {
     "data": {
      "image/png": "[encoded data removed]",
      "text/plain": [
       "<Figure size 432x288 with 1 Axes>"
      ]
     },
     "metadata": {},
     "output_type": "display_data"
    }
   ],
   "source": [
    "# plotting linear regression fit on $49 dataset\n",
    "plt.scatter(x,sr_49)\n",
    "plt.plot(x,y_pred_2, 'r')\n",
    "plt.xlabel(\"months\")\n",
    "plt.ylabel(\"subscription retention rate\")\n",
    "plt.title(\"$29\")\n",
    "plt.show()"
   ]
  },
  {
   "cell_type": "code",
   "execution_count": 29,
   "metadata": {},
   "outputs": [
    {
     "data": {
      "image/png": "[encoded data removed]",
      "text/plain": [
       "<Figure size 432x288 with 1 Axes>"
      ]
     },
     "metadata": {},
     "output_type": "display_data"
    }
   ],
   "source": [
    "# plotting linear regression fit on $99 dataset\n",
    "plt.scatter(x,sr_99)\n",
    "plt.plot(x,y_pred_3, 'r')\n",
    "plt.xlabel(\"months\")\n",
    "plt.ylabel(\"subscription retention rate\")\n",
    "plt.title(\"$29\")\n",
    "plt.show()"
   ]
  },
  {
   "cell_type": "code",
   "execution_count": 30,
   "metadata": {},
   "outputs": [
    {
     "data": {
      "text/plain": [
       "array([0.18763805, 0.16109425, 0.1383054 , 0.11874033, 0.10194299])"
      ]
     },
     "execution_count": 30,
     "metadata": {},
     "output_type": "execute_result"
    }
   ],
   "source": [
    "# predictions obtained from exponential regression model\n",
    "x_test = np.arange(8,13)\n",
    "sr_29_pred = model_func(x_test, A_29, K_29)\n",
    "sr_29_pred"
   ]
  },
  {
   "cell_type": "code",
   "execution_count": 31,
   "metadata": {},
   "outputs": [
    {
     "data": {
      "text/plain": [
       "array([0.02978728, 0.0213951 , 0.01536731, 0.01103777, 0.00792802])"
      ]
     },
     "execution_count": 31,
     "metadata": {},
     "output_type": "execute_result"
    }
   ],
   "source": [
    "# predictions obtained from exponential regression model \n",
    "sr_49_pred = model_func(x_test, A_49, K_49)\n",
    "sr_49_pred"
   ]
  },
  {
   "cell_type": "code",
   "execution_count": 32,
   "metadata": {},
   "outputs": [
    {
     "data": {
      "text/plain": [
       "array([0.00816587, 0.0056225 , 0.0038713 , 0.00266553, 0.00183531])"
      ]
     },
     "execution_count": 32,
     "metadata": {},
     "output_type": "execute_result"
    }
   ],
   "source": [
    "# predictions obtained from exponential regression model\n",
    "sr_99_pred = model_func(x_test, A_99, K_99)\n",
    "sr_99_pred"
   ]
  },
  {
   "cell_type": "code",
   "execution_count": 33,
   "metadata": {},
   "outputs": [
    {
     "data": {
      "text/plain": [
       "array([100.        ,  38.88734743,  22.20938116,  15.2607312 ,\n",
       "        11.49591405,   9.2043072 ,   7.67560421,   6.62365581])"
      ]
     },
     "execution_count": 33,
     "metadata": {},
     "output_type": "execute_result"
    }
   ],
   "source": [
    "# subscription retention rate of users who have come through ads\n",
    "l_ads = np.arange(8)\n",
    "l_ads[0] = dataset[(dataset.source == 'ads')].shape[0]\n",
    "dp_ads = dataset[(dataset.source == 'ads')].shape[0]\n",
    "for i in range(1,8):\n",
    "    l_ads[i] = dp_ads - dataset[(dataset.source == 'ads') & (dataset.billing_cycles == i)].shape[0]\n",
    "    dp_ads = l_ads[i]\n",
    "l_ads\n",
    "sr_ads = (l_ads/l_ads[0])*100\n",
    "sr_ads"
   ]
  },
  {
   "cell_type": "code",
   "execution_count": 34,
   "metadata": {},
   "outputs": [
    {
     "data": {
      "text/plain": [
       "array([100.        ,  56.23946451,  42.00121107,  33.75938988,\n",
       "        28.62543574,  24.78765363,  21.86799339,  19.4474903 ])"
      ]
     },
     "execution_count": 34,
     "metadata": {},
     "output_type": "execute_result"
    }
   ],
   "source": [
    "# subscription retention rate of users who have come through seo\n",
    "l_seo = np.arange(8)\n",
    "l_seo[0] = dataset[(dataset.source == 'seo')].shape[0]\n",
    "dp_seo = dataset[(dataset.source == 'seo')].shape[0]\n",
    "for i in range(1,8):\n",
    "    l_seo[i] = dp_seo - dataset[(dataset.source == 'seo') & (dataset.billing_cycles == i)].shape[0]\n",
    "    dp_seo = l_seo[i]\n",
    "l_seo\n",
    "sr_seo = (l_seo/l_seo[0])*100\n",
    "sr_seo"
   ]
  },
  {
   "cell_type": "code",
   "execution_count": 35,
   "metadata": {},
   "outputs": [
    {
     "data": {
      "text/plain": [
       "array([100.        ,  69.94432618,  61.70378254,  56.12821353,\n",
       "        51.98542656,  48.75962011,  46.11102014,  43.65072867])"
      ]
     },
     "execution_count": 35,
     "metadata": {},
     "output_type": "execute_result"
    }
   ],
   "source": [
    "# subscription retention rate of users who have come through friend referral\n",
    "l_fr = np.arange(8)\n",
    "l_fr[0] = dataset[(dataset.source == 'friend_referral')].shape[0]\n",
    "dp_fr = dataset[(dataset.source == 'friend_referral')].shape[0]\n",
    "for i in range(1,8):\n",
    "    l_fr[i] = dp_fr - dataset[(dataset.source == 'friend_referral') & (dataset.billing_cycles == i)].shape[0]\n",
    "    dp_fr = l_fr[i]\n",
    "l_fr\n",
    "sr_fr = (l_fr/l_fr[0])*100\n",
    "sr_fr"
   ]
  },
  {
   "cell_type": "code",
   "execution_count": 36,
   "metadata": {},
   "outputs": [],
   "source": [
    "inp = np.arange(8)"
   ]
  },
  {
   "cell_type": "code",
   "execution_count": 37,
   "metadata": {},
   "outputs": [
    {
     "data": {
      "image/png": "[encoded data removed]",
      "text/plain": [
       "<Figure size 432x288 with 1 Axes>"
      ]
     },
     "metadata": {},
     "output_type": "display_data"
    }
   ],
   "source": [
    "fig, ax = plt.subplots()\n",
    "ax.plot(inp, sr_ads, 'r', label='ads')\n",
    "ax.plot(inp, sr_seo, 'b', label='seo')\n",
    "ax.plot(inp, sr_fr, 'g', label='friend_referral')\n",
    "plt.xlabel(\"months\")\n",
    "plt.ylabel(\"subscription retention rate\")\n",
    "plt.title(\"ads VS seo VS friend_referral\")\n",
    "legend = ax.legend(loc='upper right', shadow=True, fontsize='x-large')"
   ]
  },
  {
   "cell_type": "code",
   "execution_count": 38,
   "metadata": {},
   "outputs": [
    {
     "data": {
      "text/plain": [
       "array([100.        ,  45.65087048,  28.42550501,  19.88531685,\n",
       "        14.92843205,  11.73976082,   9.4875233 ,   7.89809334])"
      ]
     },
     "execution_count": 38,
     "metadata": {},
     "output_type": "execute_result"
    }
   ],
   "source": [
    "# subscription retention rate of users from US\n",
    "l_US = np.arange(8)\n",
    "l_US[0] = dataset[(dataset.country == 'US')].shape[0]\n",
    "dp_US = dataset[(dataset.country == 'US')].shape[0]\n",
    "for i in range(1,8):\n",
    "    l_US[i] = dp_US - dataset[(dataset.country == 'US') & (dataset.billing_cycles == i)].shape[0]\n",
    "    dp_US = l_US[i]\n",
    "l_US\n",
    "sr_US = (l_US/l_US[0])*100\n",
    "sr_US"
   ]
  },
  {
   "cell_type": "code",
   "execution_count": 39,
   "metadata": {},
   "outputs": [
    {
     "data": {
      "text/plain": [
       "array([100.        ,  45.89378863,  28.51334765,  19.80668917,\n",
       "        14.94213825,  11.73563319,   9.5734888 ,   7.94941481])"
      ]
     },
     "execution_count": 39,
     "metadata": {},
     "output_type": "execute_result"
    }
   ],
   "source": [
    "# subscription retention rate of users from UK\n",
    "l_UK = np.arange(8)\n",
    "l_UK[0] = dataset[(dataset.country == 'UK')].shape[0]\n",
    "dp_UK = dataset[(dataset.country == 'UK')].shape[0]\n",
    "for i in range(1,8):\n",
    "    l_UK[i] = dp_UK - dataset[(dataset.country == 'UK') & (dataset.billing_cycles == i)].shape[0]\n",
    "    dp_UK = l_UK[i]\n",
    "l_UK\n",
    "sr_UK = (l_UK/l_UK[0])*100\n",
    "sr_UK"
   ]
  },
  {
   "cell_type": "code",
   "execution_count": 40,
   "metadata": {},
   "outputs": [
    {
     "data": {
      "text/plain": [
       "array([100.        ,  45.12839539,  27.84111351,  19.59097859,\n",
       "        14.6474186 ,  11.51511063,   9.38680518,   7.84651016])"
      ]
     },
     "execution_count": 40,
     "metadata": {},
     "output_type": "execute_result"
    }
   ],
   "source": [
    "# subscription retention rate of users from Germany\n",
    "l_germany = np.arange(8)\n",
    "l_germany[0] = dataset[(dataset.country == 'Germany')].shape[0]\n",
    "dp_germany = dataset[(dataset.country == 'Germany')].shape[0]\n",
    "for i in range(1,8):\n",
    "    l_germany[i] = dp_germany - dataset[(dataset.country == 'Germany') & (dataset.billing_cycles == i)].shape[0]\n",
    "    dp_germany = l_germany[i]\n",
    "l_germany\n",
    "sr_germany = (l_germany/l_germany[0])*100\n",
    "sr_germany"
   ]
  },
  {
   "cell_type": "code",
   "execution_count": 41,
   "metadata": {},
   "outputs": [
    {
     "data": {
      "text/plain": [
       "array([100.        ,  33.49463823,  17.77321823,  11.90042972,\n",
       "         8.84789594,   6.9935349 ,   5.83407534,   4.96883589])"
      ]
     },
     "execution_count": 41,
     "metadata": {},
     "output_type": "execute_result"
    }
   ],
   "source": [
    "# subscription retention rate of users from france\n",
    "l_france = np.arange(8)\n",
    "l_france[0] = dataset[(dataset.country == 'France')].shape[0]\n",
    "dp_france = dataset[(dataset.country == 'France')].shape[0]\n",
    "for i in range(1,8):\n",
    "    l_france[i] = dp_france - dataset[(dataset.country == 'France') & (dataset.billing_cycles == i)].shape[0]\n",
    "    dp_france = l_france[i]\n",
    "l_france\n",
    "sr_france = (l_france/l_france[0])*100\n",
    "sr_france"
   ]
  },
  {
   "cell_type": "code",
   "execution_count": 42,
   "metadata": {},
   "outputs": [
    {
     "data": {
      "text/plain": [
       "array([100.        ,  44.67278822,  32.69619173,  28.45274533,\n",
       "        26.16028484,  24.67362109,  23.48470652,  22.57688384])"
      ]
     },
     "execution_count": 42,
     "metadata": {},
     "output_type": "execute_result"
    }
   ],
   "source": [
    "# subscription retention rate of users from India\n",
    "l_India = np.arange(8)\n",
    "l_India[0] = dataset[(dataset.country == 'India')].shape[0]\n",
    "dp_India = dataset[(dataset.country == 'India')].shape[0]\n",
    "for i in range(1,8):\n",
    "    l_India[i] = dp_India - dataset[(dataset.country == 'India') & (dataset.billing_cycles == i)].shape[0]\n",
    "    dp_India = l_India[i]\n",
    "l_India\n",
    "sr_India = (l_India/l_India[0])*100\n",
    "sr_India"
   ]
  },
  {
   "cell_type": "code",
   "execution_count": 43,
   "metadata": {},
   "outputs": [
    {
     "data": {
      "text/plain": [
       "array([100.        ,  34.16844013,  17.95023073,  11.99140311,\n",
       "         9.00145389,   7.1135085 ,   5.75233359,   4.86946628])"
      ]
     },
     "execution_count": 43,
     "metadata": {},
     "output_type": "execute_result"
    }
   ],
   "source": [
    "# subscription retention rate of users from Italy\n",
    "l_Italy = np.arange(8)\n",
    "l_Italy[0] = dataset[(dataset.country == 'Italy')].shape[0]\n",
    "dp_Italy = dataset[(dataset.country == 'Italy')].shape[0]\n",
    "for i in range(1,8):\n",
    "    l_Italy[i] = dp_Italy - dataset[(dataset.country == 'Italy') & (dataset.billing_cycles == i)].shape[0]\n",
    "    dp_Italy = l_Italy[i]\n",
    "l_Italy\n",
    "sr_Italy = (l_Italy/l_Italy[0])*100\n",
    "sr_Italy"
   ]
  },
  {
   "cell_type": "code",
   "execution_count": 44,
   "metadata": {},
   "outputs": [
    {
     "data": {
      "text/plain": [
       "array([100.        ,  33.90979616,  17.89850401,  11.98790762,\n",
       "         8.86478316,   7.00646854,   5.76166448,   4.85029008])"
      ]
     },
     "execution_count": 44,
     "metadata": {},
     "output_type": "execute_result"
    }
   ],
   "source": [
    "# subscription retention rate of users from Spain\n",
    "l_Spain = np.arange(8)\n",
    "l_Spain[0] = dataset[(dataset.country == 'Spain')].shape[0]\n",
    "dp_Spain = dataset[(dataset.country == 'Spain')].shape[0]\n",
    "for i in range(1,8):\n",
    "    l_Spain[i] = dp_Spain - dataset[(dataset.country == 'Spain') & (dataset.billing_cycles == i)].shape[0]\n",
    "    dp_Spain = l_Spain[i]\n",
    "l_Spain\n",
    "sr_Spain = (l_Spain/l_Spain[0])*100\n",
    "sr_Spain"
   ]
  },
  {
   "cell_type": "code",
   "execution_count": 45,
   "metadata": {},
   "outputs": [
    {
     "data": {
      "text/plain": [
       "array([100.        ,  51.4831098 ,  40.27770048,  36.04262897,\n",
       "        33.62735823,  31.98564194,  30.70844232,  29.54532807])"
      ]
     },
     "execution_count": 45,
     "metadata": {},
     "output_type": "execute_result"
    }
   ],
   "source": [
    "# subscription retention rate of users from China\n",
    "l_China = np.arange(8)\n",
    "l_China[0] = dataset[(dataset.country == 'China')].shape[0]\n",
    "dp_China = dataset[(dataset.country == 'China')].shape[0]\n",
    "for i in range(1,8):\n",
    "    l_China[i] = dp_China - dataset[(dataset.country == 'China') & (dataset.billing_cycles == i)].shape[0]\n",
    "    dp_China = l_China[i]\n",
    "l_China\n",
    "sr_China = (l_China/l_China[0])*100\n",
    "sr_China"
   ]
  },
  {
   "cell_type": "code",
   "execution_count": 46,
   "metadata": {},
   "outputs": [
    {
     "data": {
      "image/png": "[encoded data removed]",
      "text/plain": [
       "<Figure size 432x288 with 1 Axes>"
      ]
     },
     "metadata": {},
     "output_type": "display_data"
    }
   ],
   "source": [
    "fig, ax = plt.subplots()\n",
    "ax.plot(inp,sr_US, 'r', label='US')\n",
    "ax.plot(inp,sr_UK, 'b', label='UK')\n",
    "ax.plot(inp,sr_germany, 'g', label='Germany')\n",
    "ax.plot(inp,sr_france, 'o', label='France')\n",
    "ax.plot(inp,sr_India, 'y', label='India')\n",
    "ax.plot(inp,sr_Italy, 'v', label='Italy')\n",
    "ax.plot(inp,sr_Spain, 'p', label='Spain')\n",
    "ax.plot(inp,sr_China, 'black', label='China')\n",
    "plt.xlabel(\"months\")\n",
    "plt.ylabel(\"subscription retention rate\")\n",
    "plt.title(\"US VS UK VS Germany VS France VS India VS Italy VS Spain VS China\")\n",
    "legend = ax.legend(loc='upper right', shadow=True, fontsize='x-small')\n",
    "plt.show()"
   ]
  },
  {
   "cell_type": "markdown",
   "metadata": {},
   "source": [
    "The company should market their products in India and chine as users from these countries are likely to stay subscribed."
   ]
  },
  {
   "cell_type": "code",
   "execution_count": null,
   "metadata": {},
   "outputs": [],
   "source": []
  },
  {
   "cell_type": "code",
   "execution_count": null,
   "metadata": {},
   "outputs": [],
   "source": []
  }
 ],
 "metadata": {
  "kernelspec": {
   "display_name": "Python 3",
   "language": "python",
   "name": "python3"
  },
  "language_info": {
   "codemirror_mode": {
    "name": "ipython",
    "version": 3
   },
   "file_extension": ".py",
   "mimetype": "text/x-python",
   "name": "python",
   "nbconvert_exporter": "python",
   "pygments_lexer": "ipython3",
   "version": "3.6.5"
  }
 },
 "nbformat": 4,
 "nbformat_minor": 2
}
